{
  "nbformat": 4,
  "nbformat_minor": 0,
  "metadata": {
    "colab": {
      "name": "programs.ipynb",
      "provenance": [],
      "authorship_tag": "ABX9TyPollfRf6mEk26vYIa0Xk27",
      "include_colab_link": true
    },
    "kernelspec": {
      "name": "python3",
      "display_name": "Python 3"
    },
    "language_info": {
      "name": "python"
    }
  },
  "cells": [
    {
      "cell_type": "markdown",
      "metadata": {
        "id": "view-in-github",
        "colab_type": "text"
      },
      "source": [
        "<a href=\"https://colab.research.google.com/github/krithi65/absolute-beginner/blob/main/programs.ipynb\" target=\"_parent\"><img src=\"https://colab.research.google.com/assets/colab-badge.svg\" alt=\"Open In Colab\"/></a>"
      ]
    },
    {
      "cell_type": "code",
      "execution_count": null,
      "metadata": {
        "id": "R5eXd8BHPng1"
      },
      "outputs": [],
      "source": [
        ""
      ]
    },
    {
      "cell_type": "markdown",
      "source": [
        "6.Print the values from N to 1 in a separate line.\n",
        "\n",
        "Sample Input :\n",
        "10\n",
        "Sample Output :\n",
        "10\n",
        "9\n",
        "8\n",
        "7\n",
        "6\n",
        "5\n",
        "4\n",
        "3\n",
        "2\n",
        "1"
      ],
      "metadata": {
        "id": "viY146B2Py0b"
      }
    },
    {
      "cell_type": "code",
      "source": [
        "n= int(input( ))\n",
        "for i in range(n,0,-1):\n",
        "    print (i)"
      ],
      "metadata": {
        "id": "KJCEykI3QA27"
      },
      "execution_count": null,
      "outputs": []
    },
    {
      "cell_type": "markdown",
      "source": [
        "2.Print the reversed string.\n",
        "\n",
        "Sample Input :\n",
        "GUVI\n",
        "Sample Output :\n",
        "IVUG"
      ],
      "metadata": {
        "id": "Z5K6rwX0QEqP"
      }
    },
    {
      "cell_type": "code",
      "source": [
        "a=input()\n",
        "print(a[ ::-1])"
      ],
      "metadata": {
        "id": "MxC5rURtQK4U"
      },
      "execution_count": null,
      "outputs": []
    },
    {
      "cell_type": "markdown",
      "source": [
        "8.Print the factorial of the integer.\n",
        "\n",
        "Sample Input :\n",
        "2\n",
        "Sample Output :\n",
        "2"
      ],
      "metadata": {
        "id": "AfG2Q1rfQP15"
      }
    },
    {
      "cell_type": "code",
      "source": [
        "n=int(input( ))\n",
        "product=1\n",
        "for i in range(n,0,-1):\n",
        "    product=product*i\n",
        "print(product)"
      ],
      "metadata": {
        "id": "m2Xc5vLKQPdJ"
      },
      "execution_count": null,
      "outputs": []
    },
    {
      "cell_type": "markdown",
      "source": [
        "9.Print the even and odd integers of the integer in a separate line.\n",
        "\n",
        "Sample Input :\n",
        "1234\n",
        "Sample Output :\n",
        "2 4\n",
        "1 3"
      ],
      "metadata": {
        "id": "Iz29YwllQwXo"
      }
    },
    {
      "cell_type": "code",
      "source": [
        "n = input( )\n",
        "even_lst = [ ]\n",
        "odd_lst = [ ]\n",
        "for i in n:\n",
        "    if int(i)%2==0:\n",
        "        even_lst.append(i)\n",
        "    else:\n",
        "        odd_lst.append(i)\n",
        "even_lst.sort()\n",
        "odd_lst.sort()\n",
        "print(*even_lst)\n",
        "print(*odd_lst)"
      ],
      "metadata": {
        "id": "OdFHK4u_Q22j"
      },
      "execution_count": null,
      "outputs": []
    },
    {
      "cell_type": "markdown",
      "source": [
        "10.Print the sum of the digits of the integer.\n",
        "\n",
        "Sample Input :\n",
        "124\n",
        "Sample Output :\n",
        "7"
      ],
      "metadata": {
        "id": "E2As7-4jQ8Zs"
      }
    },
    {
      "cell_type": "code",
      "source": [
        "n = int(input( ))\n",
        "sum = 0\n",
        "for value in str(n):\n",
        "    sum = sum + int(value)\n",
        "print(sum)"
      ],
      "metadata": {
        "id": "PSxW5OObRCqo"
      },
      "execution_count": null,
      "outputs": []
    },
    {
      "cell_type": "markdown",
      "source": [
        "11.Find the days in the month corresponding to the input number. Print Error if the input is not in a valid range.\n",
        "\n",
        "Sample Input :\n",
        "8\n",
        "Sample Output :\n",
        "31"
      ],
      "metadata": {
        "id": "ROdeN_PIRGnZ"
      }
    },
    {
      "cell_type": "code",
      "source": [
        "nmonth=int(input( ))\n",
        "if(nmonth==0 or nmonth==99):\n",
        "    print(\"Error\")\n",
        "elif(nmonth==2):\n",
        "    print(28)\n",
        "elif(nmonth==1 and nmonth==3 and nmonth==5 and nmonth==7 and nmonth==8 and nmonth==10 and nmonth==12):\n",
        "    print(31)\n",
        "else:\n",
        "   print(30)    "
      ],
      "metadata": {
        "id": "--DRrbnkRL_B"
      },
      "execution_count": null,
      "outputs": []
    },
    {
      "cell_type": "markdown",
      "source": [
        "12.Print the values from 1 to N in a separate line.\n",
        "\n",
        "Sample Input :\n",
        "5\n",
        "Sample Output :\n",
        "1\n",
        "2\n",
        "3\n",
        "4\n",
        "5"
      ],
      "metadata": {
        "id": "r7JkjdcKRPU5"
      }
    },
    {
      "cell_type": "code",
      "source": [
        "n= int(input( ))\n",
        "for i in range(1,n+1):\n",
        "  print(i)\n"
      ],
      "metadata": {
        "id": "c6eO3ACnRWwF"
      },
      "execution_count": null,
      "outputs": []
    },
    {
      "cell_type": "markdown",
      "source": [
        "13.Print the digits of the integer in a single line separated by space,\n",
        "\n",
        "Sample Input :\n",
        "348\n",
        "Sample Output :\n",
        "3 4 8"
      ],
      "metadata": {
        "id": "MN9sD7z5R_YD"
      }
    },
    {
      "cell_type": "code",
      "source": [
        "a = input( )\n",
        "digit = []\n",
        "for i in a:\n",
        "    digit.append(i)\n",
        "print(*digit)    \n",
        "    "
      ],
      "metadata": {
        "id": "V9abaZMWSBzW"
      },
      "execution_count": null,
      "outputs": []
    },
    {
      "cell_type": "markdown",
      "source": [
        "14.Print the sum of values from 1 to N.\n",
        "\n",
        "Sample Input :\n",
        "10\n",
        "Sample Output :\n",
        "55"
      ],
      "metadata": {
        "id": "zwiZep8cSHVm"
      }
    },
    {
      "cell_type": "code",
      "source": [
        "n = int(input( ))\n",
        "sum = 0\n",
        "for value in range(1, n + 1):\n",
        "    sum = sum + value\n",
        "print(sum)"
      ],
      "metadata": {
        "id": "gXdjxCXESNhV"
      },
      "execution_count": null,
      "outputs": []
    },
    {
      "cell_type": "markdown",
      "source": [
        "15.Find the area of the rectangle formed by the provided input. Round off the answer to the first decimal place if required.\n",
        "\n",
        "Sample Input :\n",
        "2\n",
        "3\n",
        "Sample Output :\n",
        "6"
      ],
      "metadata": {
        "id": "JRK9zw64SQ4A"
      }
    },
    {
      "cell_type": "code",
      "source": [
        "a = int(input( ))\n",
        "b= int(input( ))\n",
        "c=a*b\n",
        "print(round(c,1))"
      ],
      "metadata": {
        "id": "zdVQ7V9xSWoo"
      },
      "execution_count": null,
      "outputs": []
    },
    {
      "cell_type": "markdown",
      "source": [
        "16.Write a code to get the input and print it 5 times.\n",
        "Sample Input :\n",
        "4\n",
        "Sample Output :\n",
        "4\n",
        "4\n",
        "4\n",
        "4\n",
        "4"
      ],
      "metadata": {
        "id": "YNjDdO5NSafF"
      }
    },
    {
      "cell_type": "code",
      "source": [
        "a = int(input( ))\n",
        "for i in range (5):\n",
        "    print(a)"
      ],
      "metadata": {
        "id": "zcrE7oIhSp1O"
      },
      "execution_count": null,
      "outputs": []
    },
    {
      "cell_type": "markdown",
      "source": [
        "17.Calculate and print the Circumference of the circle corresponding to the input radius up to two decimal places.\n",
        "\n",
        "Sample Input :\n",
        "2\n",
        "Sample Output :\n",
        "12.57"
      ],
      "metadata": {
        "id": "auLuPtsiSuBC"
      }
    },
    {
      "cell_type": "code",
      "source": [
        "import math\n",
        "a = float(input( ))\n",
        "if(a>-1):    \n",
        "    circumference = 2*math.pi*a\n",
        "    print(round(circumference,2))\n",
        "else:\n",
        "    print(\"error\")\n",
        "    \n"
      ],
      "metadata": {
        "id": "KGwxK4-LStkH"
      },
      "execution_count": null,
      "outputs": []
    },
    {
      "cell_type": "markdown",
      "source": [
        "18.Find the sum of the two numbers (A + B)\n",
        "\n",
        "Sample Input :\n",
        "1\n",
        "1\n",
        "Sample Output :\n",
        "2"
      ],
      "metadata": {
        "id": "ZVLEMhn5TBVc"
      }
    },
    {
      "cell_type": "code",
      "source": [
        "A = float(input( ))\n",
        "B = float(input( ))\n",
        "C = A + B\n",
        "print(round(C,1))"
      ],
      "metadata": {
        "id": "O-sDR4uvS8pE"
      },
      "execution_count": null,
      "outputs": []
    },
    {
      "cell_type": "markdown",
      "source": [
        "19.Print the two values of X after rounding off to 2 decimal places if required.\n",
        "\n",
        "Sample Input :\n",
        "1 5 6\n",
        "Sample Output :\n",
        "-2.00\n",
        "-3.00"
      ],
      "metadata": {
        "id": "QUoNBEv4TLJm"
      }
    },
    {
      "cell_type": "code",
      "source": [
        "import cmath\n",
        "\n",
        "a,b,c = map(int,input().split())\n",
        "\n",
        "d = (b*b) - (4*a*c)\n",
        "\n",
        "sol1 = (-b-cmath.sqrt(d))/(2*a)\n",
        "\n",
        "sol2 = (-b+cmath.sqrt(d))/(2*a)\n",
        "\n",
        "print('%0.2f' % sol2.real)\n",
        "\n",
        "print('%0.2f' % sol1.real)"
      ],
      "metadata": {
        "id": "MHYrhHyZTRYt"
      },
      "execution_count": null,
      "outputs": []
    },
    {
      "cell_type": "markdown",
      "source": [
        "20.Remove all the whitespaces and then print the length of the remaining string.\n",
        "\n",
        "Sample Input :\n",
        "Lorem Ipsum\n",
        "Sample Output :\n",
        "10"
      ],
      "metadata": {
        "id": "8E-9RSUPTUuX"
      }
    },
    {
      "cell_type": "code",
      "source": [
        "A=input( )\n",
        "res=sum(map(len,A.split( )))\n",
        "print(res)\n",
        "\n"
      ],
      "metadata": {
        "id": "zVPHsltKTaVz"
      },
      "execution_count": null,
      "outputs": []
    }
  ]
}