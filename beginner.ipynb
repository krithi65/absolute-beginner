{
  "nbformat": 4,
  "nbformat_minor": 0,
  "metadata": {
    "colab": {
      "name": "beginner.ipynb",
      "provenance": [],
      "authorship_tag": "ABX9TyM4NkWVcHv8SKY/ZhqVY7gh",
      "include_colab_link": true
    },
    "kernelspec": {
      "name": "python3",
      "display_name": "Python 3"
    },
    "language_info": {
      "name": "python"
    }
  },
  "cells": [
    {
      "cell_type": "markdown",
      "metadata": {
        "id": "view-in-github",
        "colab_type": "text"
      },
      "source": [
        "<a href=\"https://colab.research.google.com/github/krithi65/absolute-beginner/blob/main/beginner.ipynb\" target=\"_parent\"><img src=\"https://colab.research.google.com/assets/colab-badge.svg\" alt=\"Open In Colab\"/></a>"
      ]
    },
    {
      "cell_type": "code",
      "execution_count": null,
      "metadata": {
        "id": "QV1JzfGXTods"
      },
      "outputs": [],
      "source": [
        ""
      ]
    },
    {
      "cell_type": "markdown",
      "source": [
        "21.write a program to check whether this year is a leap year or not.\n",
        "Sample Input :\n",
        "2020\n",
        "Sample Output :\n",
        "Y"
      ],
      "metadata": {
        "id": "wM62z4TMTvQ5"
      }
    },
    {
      "cell_type": "code",
      "source": [
        "A = int(input( ))\n",
        "if(A % 400==0 ):\n",
        "    print(\"Y\")\n",
        "elif(A % 4==0):\n",
        "    print(\"Y\")\n",
        "    \n",
        "\n",
        "    \n",
        "elif(A  % 100!=0):\n",
        "    print(\"N\")\n",
        "else:\n",
        "    print(\"N\")"
      ],
      "metadata": {
        "id": "9oI4HaG5T7iJ"
      },
      "execution_count": null,
      "outputs": []
    },
    {
      "cell_type": "markdown",
      "source": [
        "22.Find the Simple interest and print it up to two decimal places. Round off if required.\n",
        "\n",
        "Sample Input :\n",
        "1000 2 5\n",
        "Sample Output :\n",
        "100.00"
      ],
      "metadata": {
        "id": "-ymY2oSoT_mM"
      }
    },
    {
      "cell_type": "code",
      "source": [
        "p,n,r=map(float,input().split())\n",
        "\n",
        "\n",
        "simple_inter = (p*n*r/100)\n",
        "print(round(simple_inter,2))"
      ],
      "metadata": {
        "id": "sFK4Wf00UFBF"
      },
      "execution_count": null,
      "outputs": []
    },
    {
      "cell_type": "markdown",
      "source": [
        "23.Print the small number out of the two numbers.\n",
        "\n",
        "Sample Input :\n",
        "23 1\n",
        "Sample Output :\n",
        "1"
      ],
      "metadata": {
        "id": "fa2GNRATTq9d"
      }
    },
    {
      "cell_type": "code",
      "source": [
        "num1,num2 = map(int,input( ).split( ))\n",
        "\n",
        "if(num1<num2):\n",
        " print(num1)\n",
        "else: \n",
        " print(num2)   \n"
      ],
      "metadata": {
        "id": "Z9H9Tl-8URFf"
      },
      "execution_count": null,
      "outputs": []
    },
    {
      "cell_type": "markdown",
      "source": [
        "24.Print the table of nine with single space between the elements till the number that is input.\n",
        "\n",
        "Sample Input :\n",
        "3\n",
        "Sample Output :\n",
        "9 18 27"
      ],
      "metadata": {
        "id": "ebpPOjWaUUEU"
      }
    },
    {
      "cell_type": "code",
      "source": [
        "N=int(input())\n",
        "st=\"\"\n",
        "\n",
        "if N==0:\n",
        "    print(\"Null\")\n",
        "for i in range(1,N+1):\n",
        "    st=st+\" \"+str(9*i)\n",
        "print(st.strip())"
      ],
      "metadata": {
        "id": "sPFee3sWUY6d"
      },
      "execution_count": null,
      "outputs": []
    },
    {
      "cell_type": "markdown",
      "source": [
        "25.Find the cube of the number.\n",
        "\n",
        "Sample Input :\n",
        "2\n",
        "Sample Output :\n",
        "8"
      ],
      "metadata": {
        "id": "oEzsda4mUcxr"
      }
    },
    {
      "cell_type": "code",
      "source": [
        "num = int(input( ))\n",
        "cube = num*num*num\n",
        "print(cube)"
      ],
      "metadata": {
        "id": "dzq6YX-UUg19"
      },
      "execution_count": null,
      "outputs": []
    },
    {
      "cell_type": "markdown",
      "source": [
        "26.Convert and print this value in meters and centimeters.\n",
        "\n",
        "Sample Input :\n",
        "2\n",
        "Sample Output :\n",
        "2000\n",
        "200000"
      ],
      "metadata": {
        "id": "0V4tZkXKUkCM"
      }
    },
    {
      "cell_type": "code",
      "source": [
        "num1=int(input())\n",
        "a= 1000*num1\n",
        "b= 100000*num1\n",
        "print(a)\n",
        "print(b)"
      ],
      "metadata": {
        "id": "poD1OAMlUpSJ"
      },
      "execution_count": null,
      "outputs": []
    },
    {
      "cell_type": "markdown",
      "source": [
        "27.Find and print the largest among the three\n",
        "\n",
        "Sample Input :\n",
        "1\n",
        "2\n",
        "3\n",
        "Sample Output :\n",
        "3"
      ],
      "metadata": {
        "id": "vje5C2EYUxGd"
      }
    },
    {
      "cell_type": "code",
      "source": [
        "num1 = input( )\n",
        "num2 = input( )\n",
        "num3 = input( )\n",
        "if(num1>num2)and(num1>num3):\n",
        "    print(num1)\n",
        "elif(num2>num1)and(num2>num3):\n",
        "    print(num2)\n",
        "else:\n",
        "    print(num3)"
      ],
      "metadata": {
        "id": "3h5b4gAuU2zc"
      },
      "execution_count": null,
      "outputs": []
    },
    {
      "cell_type": "markdown",
      "source": [
        "28.Find out whether the number is odd or even. Print \"Odd\" or \"Even\" for the corresponding cases. Note: In case of a decimal, Round off to nearest integer and then find the output. In case the input is zero, print \"Zero\".\n",
        "\n",
        "Sample Input :\n",
        "2\n",
        "Sample Output :\n",
        "Even"
      ],
      "metadata": {
        "id": "smeHE1msU5_r"
      }
    },
    {
      "cell_type": "code",
      "source": [
        "num = float(input( ))\n",
        "round(num)\n",
        "if(num == 0):\n",
        "    print(\"zero\")\n",
        "elif(num %2 == 0):\n",
        "    print(\"Even\")\n",
        "else:\n",
        "    print(\"Odd\")"
      ],
      "metadata": {
        "id": "0lXyVfAhU-6Y"
      },
      "execution_count": null,
      "outputs": []
    },
    {
      "cell_type": "markdown",
      "source": [
        "29.Write a program to convert this into Fahrenheit. \n",
        "Sample Input :\n",
        "12\n",
        "Sample Output :\n",
        "53.60"
      ],
      "metadata": {
        "id": "gp8Si8y5VDHx"
      }
    },
    {
      "cell_type": "code",
      "source": [
        "cel=float(input())\n",
        "fa=(cel*1.8)+32\n",
        "print(round(fa,2))"
      ],
      "metadata": {
        "id": "HZp5-oqfVO5t"
      },
      "execution_count": null,
      "outputs": []
    },
    {
      "cell_type": "markdown",
      "source": [
        "30.Print the First 3 multiples of the number with single spaces between them as an output.\n",
        "\n",
        "Sample Input :\n",
        "2\n",
        "Sample Output :\n",
        "2 4 6"
      ],
      "metadata": {
        "id": "4w6HYK2fVSK5"
      }
    },
    {
      "cell_type": "code",
      "source": [
        "num1=int(input())\n",
        "a= 1*num1\n",
        "b= 2*num1\n",
        "c= 3*num1\n",
        "print(a,b,c)\n"
      ],
      "metadata": {
        "id": "hPKawhnvVXwD"
      },
      "execution_count": null,
      "outputs": []
    }
  ]
}