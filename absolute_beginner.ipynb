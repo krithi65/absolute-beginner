{
  "nbformat": 4,
  "nbformat_minor": 0,
  "metadata": {
    "colab": {
      "name": "absolute beginner.ipynb",
      "provenance": [],
      "authorship_tag": "ABX9TyNwUtXqw5dWf+q1s2ZEZd92",
      "include_colab_link": true
    },
    "kernelspec": {
      "name": "python3",
      "display_name": "Python 3"
    },
    "language_info": {
      "name": "python"
    }
  },
  "cells": [
    {
      "cell_type": "markdown",
      "metadata": {
        "id": "view-in-github",
        "colab_type": "text"
      },
      "source": [
        "<a href=\"https://colab.research.google.com/github/krithi65/absolute-beginner/blob/main/absolute_beginner.ipynb\" target=\"_parent\"><img src=\"https://colab.research.google.com/assets/colab-badge.svg\" alt=\"Open In Colab\"/></a>"
      ]
    },
    {
      "cell_type": "markdown",
      "source": [
        ""
      ],
      "metadata": {
        "id": "nA0tHAKeNmDf"
      }
    },
    {
      "cell_type": "markdown",
      "source": [
        "1.Print the even values from 1 to N in a separate line.\n",
        "\n",
        "Sample Input :\n",
        "6\n",
        "Sample Output :\n",
        "2\n",
        "4\n",
        "6"
      ],
      "metadata": {
        "id": "BOfxXYGcNync"
      }
    },
    {
      "cell_type": "code",
      "source": [
        "N = int(input( ))\n",
        "for i in range(1, N+1):\n",
        "     if i%2==0:\n",
        "      print(i)"
      ],
      "metadata": {
        "id": "uTX8ML5UN4sm"
      },
      "execution_count": null,
      "outputs": []
    },
    {
      "cell_type": "markdown",
      "source": [
        "2.Find the area of the equilateral triangle and print the answer up to 2 decimal places after rounding off.\n",
        "\n",
        "Sample Input :\n",
        "20\n",
        "Sample Output :\n",
        "173.21"
      ],
      "metadata": {
        "id": "35rZDxfsN93t"
      }
    },
    {
      "cell_type": "code",
      "source": [
        "import math\n",
        "s = float(input( ))\n",
        "area=(math.sqrt(3)/4)*(s*s)\n",
        "print('%0.2f'% area) "
      ],
      "metadata": {
        "id": "5nNOJV3COJGR"
      },
      "execution_count": null,
      "outputs": []
    },
    {
      "cell_type": "markdown",
      "source": [
        "3.Print the HCF of the integers.\n",
        "\n",
        "Sample Input :\n",
        "2 3\n",
        "Sample Output :\n",
        "1"
      ],
      "metadata": {
        "id": "4LWIox8gOOls"
      }
    },
    {
      "cell_type": "code",
      "source": [
        "x,y=map(int,input().split())\n",
        "if (x>y):\n",
        "    smaller=y\n",
        "else:\n",
        "    smaller=x\n",
        "for i in range(1,smaller+1):\n",
        "    if (x%i==0) and (y%i==0):\n",
        "        hcf=i\n",
        "print(str(hcf))     "
      ],
      "metadata": {
        "id": "BwYD9U0oOOD1"
      },
      "execution_count": null,
      "outputs": []
    },
    {
      "cell_type": "markdown",
      "source": [
        "4.Find the Nth term in the provided series.\n",
        "\n",
        "Sample Input :\n",
        "18\n",
        "Sample Output :\n",
        "324"
      ],
      "metadata": {
        "id": "qM1kRK1zOa4u"
      }
    },
    {
      "cell_type": "code",
      "source": [
        "num =int(input( ))\n",
        "if(num<0):\n",
        "    print(\"Error\")\n",
        "elif(num==0):\n",
        "    print(0)\n",
        "else:\n",
        "    for i in range(1,num+1):\n",
        "        i=num*num\n",
        "    print(i)\n"
      ],
      "metadata": {
        "id": "VjZBQpULOk40"
      },
      "execution_count": null,
      "outputs": []
    },
    {
      "cell_type": "markdown",
      "source": [
        "5.Print the integer A, N times in a separate line.\n",
        "\n",
        "Sample Input :\n",
        "2 3\n",
        "Sample Output :\n",
        "2\n",
        "2\n",
        "2"
      ],
      "metadata": {
        "id": "pL25jOduOopA"
      }
    },
    {
      "cell_type": "code",
      "source": [
        "a,n = map (int,input( ).split( ))\n",
        "for i in range(n):\n",
        "    print (a)"
      ],
      "metadata": {
        "id": "MuR_hIXBOus7"
      },
      "execution_count": null,
      "outputs": []
    }
  ]
}